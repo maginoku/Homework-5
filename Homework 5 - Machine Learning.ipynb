{
 "cells": [
  {
   "cell_type": "code",
   "execution_count": 2,
   "metadata": {},
   "outputs": [],
   "source": [
    "#Importing important pachages into python\n",
    "\n",
    "import pandas as pd\n",
    "import numpy as np\n",
    "import math\n",
    "import operator\n",
    "import matplotlib.pyplot as plt\n",
    "import seaborn as sns\n",
    "import warnings\n",
    "warnings.filterwarnings(\"ignore\")"
   ]
  },
  {
   "cell_type": "code",
   "execution_count": 3,
   "metadata": {},
   "outputs": [],
   "source": [
    "#Importing Algorithms\n",
    "\n",
    "from sklearn.datasets import load_iris\n",
    "from sklearn.model_selection import train_test_split\n",
    "from sklearn.neighbors import KNeighborsClassifier\n",
    "from sklearn.tree import DecisionTreeClassifier\n",
    "from sklearn.model_selection import cross_val_score\n",
    "from sklearn.metrics import accuracy_score\n",
    "from sklearn.metrics import classification_report\n",
    "from sklearn.metrics import recall_score , precision_score , roc_auc_score ,roc_curve\n",
    "from sklearn.metrics import confusion_matrix\n",
    "from sklearn.svm import SVC"
   ]
  },
  {
   "cell_type": "code",
   "execution_count": 11,
   "metadata": {},
   "outputs": [],
   "source": [
    "#calling the Iris dataset for we can do further analysis. Moreover, selecting the columns of data to analyse.\n",
    "\n",
    "iris_df = load_iris()\n",
    "\n",
    "x = pd.DataFrame(iris_df.data[:, :], columns = iris_df.feature_names[:])\n",
    "y = pd.DataFrame(iris_df.target, columns = [\"Species\"])\n",
    "\n",
    "y_array = y[:].to_numpy().ravel()"
   ]
  },
  {
   "cell_type": "code",
   "execution_count": 43,
   "metadata": {},
   "outputs": [],
   "source": [
    "#Making multiple cross validation scores up to 20 times\n",
    "\n",
    "tmp = [] #making an empty df to fill the values in \n",
    "n = 1\n",
    "while n < 21:\n",
    "    kNN_class = KNeighborsClassifier(n_neighbors = n)\n",
    "    \n",
    "    entropy_DT = DecisionTreeClassifier(criterion = \"entropy\")\n",
    "    gini_DT = DecisionTreeClassifier()\n",
    "    \n",
    "    kNN_Cross_val = cross_val_score(kNN_class, x, y_array, scoring = \"accuracy\")\n",
    "    entropy_DT_Cross_val = cross_val_score(entropy_DT, x, y_array, scoring = \"accuracy\")\n",
    "    gini_DT_Cross_val = cross_val_score(entropy_DT, x, y_array, scoring = \"accuracy\")\n",
    "    \n",
    "    tmp.append([\"K Nearest Neighbor and it's means\", n, kNN_Cross_val.mean()]) #Here we are appending the dataframes together\n",
    "    tmp.append([\"Gini decision tree and it's means\", n, gini_DT_Cross_val.mean()])\n",
    "    tmp.append([\"Entropy decision tree and it's means\", n, entropy_DT_Cross_val.mean()])\n",
    "    \n",
    "    n += 1"
   ]
  },
  {
   "cell_type": "code",
   "execution_count": 44,
   "metadata": {},
   "outputs": [
    {
     "data": {
      "image/png": "[encoded data removed]",
      "text/plain": [
       "<Figure size 432x288 with 1 Axes>"
      ]
     },
     "metadata": {
      "needs_background": "light"
     },
     "output_type": "display_data"
    }
   ],
   "source": [
    "#Visualizing the results using a bar plot\n",
    "\n",
    "#print(tmp) #checking to see is the tmp matrix was done properly this will be commented \n",
    "\n",
    "\n",
    "results_df = pd.DataFrame(data = tmp, columns = [\"Classifier\", \"K Value\", \"Score\"]) #remember this is case sensitive\n",
    "results_df.pivot(\"K Value\", \"Classifier\", \"Score\").plot(kind = \"bar\")\n",
    "\n",
    "plt.ylim(0.8, 1.08) #Making it look presentable\n",
    "plt.show()"
   ]
  }
 ],
 "metadata": {
  "kernelspec": {
   "display_name": "Python 3",
   "language": "python",
   "name": "python3"
  },
  "language_info": {
   "codemirror_mode": {
    "name": "ipython",
    "version": 3
   },
   "file_extension": ".py",
   "mimetype": "text/x-python",
   "name": "python",
   "nbconvert_exporter": "python",
   "pygments_lexer": "ipython3",
   "version": "3.7.6"
  }
 },
 "nbformat": 4,
 "nbformat_minor": 4
}
